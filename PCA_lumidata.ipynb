{
 "cells": [
  {
   "cell_type": "markdown",
   "metadata": {},
   "source": [
    "# TRAIN ALL FILLS, VALIDATION ALL FILLS, ALL DETECTORS"
   ]
  },
  {
   "cell_type": "code",
   "execution_count": 1,
   "metadata": {},
   "outputs": [],
   "source": [
    "# This Python 3 environment comes with many helpful analytics libraries installed\n",
    "# It is defined by the kaggle/python Docker image: https://github.com/kaggle/docker-python\n",
    "# For example, here's several helpful packages to load\n",
    "\n",
    "import numpy as np # linear algebra\n",
    "import pandas as pd # data processing, CSV file I/O (e.g. pd.read_csv)\n",
    "import datetime as dt\n",
    "import matplotlib.pyplot as pl\n",
    "import seaborn as sns\n",
    "\n",
    "# Input data files are available in the read-only \"../input/\" directory\n",
    "# For example, running this (by clicking run or pressing Shift+Enter) will list all files under the input directory\n",
    "\n",
    "import os"
   ]
  },
  {
   "cell_type": "code",
   "execution_count": 2,
   "metadata": {},
   "outputs": [
    {
     "name": "stdout",
     "output_type": "stream",
     "text": [
      "lumiData_fillRange.csv\n",
      "(40758, 5)\n",
      "            fill   pltzero     bcm1f      hfoc\n",
      "Timestamp                                     \n",
      "1656979796  7916  0.007553  0.007406  0.006119\n",
      "1656979815  7916  0.007098  0.006290  0.005698\n",
      "1656979838  7916  0.006711  0.006589  0.005369\n",
      "1656979862  7916  0.007862  0.008623  0.006937\n",
      "1656979885  7916  0.008179  0.008251  0.006847\n",
      "(40758,)\n"
     ]
    }
   ],
   "source": [
    "# Data loading and pre-processing:\n",
    "data_dir = '/afs/cern.ch/user/m/mrapelli/private/filldata/'\n",
    "#merged_data = pd.DataFrame()\n",
    "\n",
    "for filename in sorted(os.listdir(data_dir), reverse=True):\n",
    "    if not filename.startswith(\"lumiData\"): continue\n",
    "    print(filename)\n",
    "    dataset = pd.read_csv(os.path.join(data_dir, filename), sep=',')\n",
    "    dataset = dataset.drop(columns=['E(GeV)'])\n",
    "    print (dataset.shape)\n",
    "    dataset.columns = ['Timestamp','fill', 'pltzero', 'bcm1f', 'hfoc']\n",
    "    dataset = dataset.set_index('Timestamp')\n",
    "    #dataset.index = pd.DatetimeIndex(dataset.index).round(freq='1s')\n",
    "    #dataset.index = pd.to_datetime(dataset.index)\n",
    "    #dataset.columns[1] = pd.datetime.strptime(dataset.columns[1], \"%X\")\n",
    "    print(dataset.head())    \n",
    "    #print(dataset.index)\n",
    "    print(dataset.index.shape)\n",
    "    #print(type(dataset)) "
   ]
  },
  {
   "cell_type": "code",
   "execution_count": 3,
   "metadata": {},
   "outputs": [
    {
     "data": {
      "text/html": [
       "<div>\n",
       "<style scoped>\n",
       "    .dataframe tbody tr th:only-of-type {\n",
       "        vertical-align: middle;\n",
       "    }\n",
       "\n",
       "    .dataframe tbody tr th {\n",
       "        vertical-align: top;\n",
       "    }\n",
       "\n",
       "    .dataframe thead th {\n",
       "        text-align: right;\n",
       "    }\n",
       "</style>\n",
       "<table border=\"1\" class=\"dataframe\">\n",
       "  <thead>\n",
       "    <tr style=\"text-align: right;\">\n",
       "      <th></th>\n",
       "      <th>fill</th>\n",
       "      <th>pltzero</th>\n",
       "      <th>bcm1f</th>\n",
       "      <th>hfoc</th>\n",
       "    </tr>\n",
       "    <tr>\n",
       "      <th>Timestamp</th>\n",
       "      <th></th>\n",
       "      <th></th>\n",
       "      <th></th>\n",
       "      <th></th>\n",
       "    </tr>\n",
       "  </thead>\n",
       "  <tbody>\n",
       "    <tr>\n",
       "      <th>1656979796</th>\n",
       "      <td>7916</td>\n",
       "      <td>0.007553</td>\n",
       "      <td>0.007406</td>\n",
       "      <td>0.006119</td>\n",
       "    </tr>\n",
       "    <tr>\n",
       "      <th>1656979815</th>\n",
       "      <td>7916</td>\n",
       "      <td>0.007098</td>\n",
       "      <td>0.006290</td>\n",
       "      <td>0.005698</td>\n",
       "    </tr>\n",
       "    <tr>\n",
       "      <th>1656979838</th>\n",
       "      <td>7916</td>\n",
       "      <td>0.006711</td>\n",
       "      <td>0.006589</td>\n",
       "      <td>0.005369</td>\n",
       "    </tr>\n",
       "    <tr>\n",
       "      <th>1656979862</th>\n",
       "      <td>7916</td>\n",
       "      <td>0.007862</td>\n",
       "      <td>0.008623</td>\n",
       "      <td>0.006937</td>\n",
       "    </tr>\n",
       "    <tr>\n",
       "      <th>1656979885</th>\n",
       "      <td>7916</td>\n",
       "      <td>0.008179</td>\n",
       "      <td>0.008251</td>\n",
       "      <td>0.006847</td>\n",
       "    </tr>\n",
       "    <tr>\n",
       "      <th>...</th>\n",
       "      <td>...</td>\n",
       "      <td>...</td>\n",
       "      <td>...</td>\n",
       "      <td>...</td>\n",
       "    </tr>\n",
       "    <tr>\n",
       "      <th>1660006952</th>\n",
       "      <td>8111</td>\n",
       "      <td>0.000009</td>\n",
       "      <td>0.000000</td>\n",
       "      <td>0.000000</td>\n",
       "    </tr>\n",
       "    <tr>\n",
       "      <th>1660006976</th>\n",
       "      <td>8111</td>\n",
       "      <td>0.000009</td>\n",
       "      <td>0.000000</td>\n",
       "      <td>0.000000</td>\n",
       "    </tr>\n",
       "    <tr>\n",
       "      <th>1660006999</th>\n",
       "      <td>8111</td>\n",
       "      <td>0.000019</td>\n",
       "      <td>0.000000</td>\n",
       "      <td>0.000000</td>\n",
       "    </tr>\n",
       "    <tr>\n",
       "      <th>1660007022</th>\n",
       "      <td>8111</td>\n",
       "      <td>0.000000</td>\n",
       "      <td>0.000000</td>\n",
       "      <td>0.000000</td>\n",
       "    </tr>\n",
       "    <tr>\n",
       "      <th>1660007046</th>\n",
       "      <td>8111</td>\n",
       "      <td>0.000000</td>\n",
       "      <td>0.000000</td>\n",
       "      <td>0.000000</td>\n",
       "    </tr>\n",
       "  </tbody>\n",
       "</table>\n",
       "<p>40758 rows × 4 columns</p>\n",
       "</div>"
      ],
      "text/plain": [
       "            fill   pltzero     bcm1f      hfoc\n",
       "Timestamp                                     \n",
       "1656979796  7916  0.007553  0.007406  0.006119\n",
       "1656979815  7916  0.007098  0.006290  0.005698\n",
       "1656979838  7916  0.006711  0.006589  0.005369\n",
       "1656979862  7916  0.007862  0.008623  0.006937\n",
       "1656979885  7916  0.008179  0.008251  0.006847\n",
       "...          ...       ...       ...       ...\n",
       "1660006952  8111  0.000009  0.000000  0.000000\n",
       "1660006976  8111  0.000009  0.000000  0.000000\n",
       "1660006999  8111  0.000019  0.000000  0.000000\n",
       "1660007022  8111  0.000000  0.000000  0.000000\n",
       "1660007046  8111  0.000000  0.000000  0.000000\n",
       "\n",
       "[40758 rows x 4 columns]"
      ]
     },
     "metadata": {},
     "output_type": "display_data"
    }
   ],
   "source": [
    "display(dataset)"
   ]
  },
  {
   "cell_type": "code",
   "execution_count": 4,
   "metadata": {},
   "outputs": [
    {
     "name": "stdout",
     "output_type": "stream",
     "text": [
      "(50,)\n"
     ]
    },
    {
     "data": {
      "text/plain": [
       "array([7916, 7920, 7921, 7923, 7960, 7963, 7965, 7966, 7967, 7969, 7978,\n",
       "       8007, 8016, 8017, 8018, 8019, 8020, 8022, 8023, 8027, 8030, 8033,\n",
       "       8043, 8046, 8057, 8058, 8059, 8062, 8063, 8067, 8068, 8072, 8073,\n",
       "       8076, 8078, 8079, 8081, 8083, 8087, 8088, 8091, 8094, 8098, 8099,\n",
       "       8100, 8102, 8103, 8106, 8108, 8111])"
      ]
     },
     "execution_count": 4,
     "metadata": {},
     "output_type": "execute_result"
    }
   ],
   "source": [
    "fills = dataset['fill'].unique()\n",
    "print(np.shape(fills))\n",
    "fills"
   ]
  },
  {
   "cell_type": "code",
   "execution_count": 5,
   "metadata": {},
   "outputs": [],
   "source": [
    "#bad_fills = [7920, 7921, 7963, 7966, 7969, 8016, 8018, 8019, 8020, 8027, 8030, 8046, 8057, 8059, 8062, 8067, 8072, 8073, 8081, 8083, 8094, 8098, 8099, 8100, 8102, 8103, 8106]\n",
    "bad_fills = [7920, 7921, 7963, 7966, 7969, 8016, 8018, 8019, 8020, 8027, 8030, 8046, 8057, 8059, 8062, 8067, 8072, 8073, 8081, 8083, 8094, 8098, 8099, 8102]\n",
    "\n",
    "good_fills = [f for f in fills if f not in bad_fills]"
   ]
  },
  {
   "cell_type": "code",
   "execution_count": 6,
   "metadata": {},
   "outputs": [],
   "source": [
    "dataset_train = dataset[dataset.fill.apply(lambda x : x in good_fills)]\n",
    "dataset_test = dataset[dataset.fill.apply(lambda x : x in bad_fills)]\n",
    "\n",
    "#dataset_train = dataset[dataset.fill.apply(lambda x : x ==7921)]\n",
    "#dataset_test = dataset[dataset.fill.apply(lambda x : x ==7916)]"
   ]
  },
  {
   "cell_type": "code",
   "execution_count": 7,
   "metadata": {},
   "outputs": [
    {
     "data": {
      "text/plain": [
       "<AxesSubplot:xlabel='Timestamp'>"
      ]
     },
     "execution_count": 7,
     "metadata": {},
     "output_type": "execute_result"
    },
    {
     "data": {
      "image/png": "[encoded data removed]",
      "text/plain": [
       "<Figure size 432x288 with 1 Axes>"
      ]
     },
     "metadata": {
      "needs_background": "light"
     },
     "output_type": "display_data"
    }
   ],
   "source": [
    "dataset_train.drop(columns=['fill']).plot()"
   ]
  },
  {
   "cell_type": "code",
   "execution_count": 8,
   "metadata": {},
   "outputs": [
    {
     "data": {
      "text/plain": [
       "<AxesSubplot:xlabel='Timestamp'>"
      ]
     },
     "execution_count": 8,
     "metadata": {},
     "output_type": "execute_result"
    },
    {
     "data": {
      "image/png": "[encoded data removed]",
      "text/plain": [
       "<Figure size 432x288 with 1 Axes>"
      ]
     },
     "metadata": {
      "needs_background": "light"
     },
     "output_type": "display_data"
    }
   ],
   "source": [
    "dataset_test.drop(columns=['fill']).plot()"
   ]
  },
  {
   "cell_type": "code",
   "execution_count": 9,
   "metadata": {},
   "outputs": [
    {
     "data": {
      "text/html": [
       "<div>\n",
       "<style scoped>\n",
       "    .dataframe tbody tr th:only-of-type {\n",
       "        vertical-align: middle;\n",
       "    }\n",
       "\n",
       "    .dataframe tbody tr th {\n",
       "        vertical-align: top;\n",
       "    }\n",
       "\n",
       "    .dataframe thead th {\n",
       "        text-align: right;\n",
       "    }\n",
       "</style>\n",
       "<table border=\"1\" class=\"dataframe\">\n",
       "  <thead>\n",
       "    <tr style=\"text-align: right;\">\n",
       "      <th></th>\n",
       "      <th>fill</th>\n",
       "      <th>pltzero</th>\n",
       "      <th>bcm1f</th>\n",
       "      <th>hfoc</th>\n",
       "    </tr>\n",
       "    <tr>\n",
       "      <th>Timestamp</th>\n",
       "      <th></th>\n",
       "      <th></th>\n",
       "      <th></th>\n",
       "      <th></th>\n",
       "    </tr>\n",
       "  </thead>\n",
       "  <tbody>\n",
       "    <tr>\n",
       "      <th>1656979796</th>\n",
       "      <td>7916</td>\n",
       "      <td>0.007553</td>\n",
       "      <td>0.007406</td>\n",
       "      <td>0.006119</td>\n",
       "    </tr>\n",
       "    <tr>\n",
       "      <th>1656979815</th>\n",
       "      <td>7916</td>\n",
       "      <td>0.007098</td>\n",
       "      <td>0.006290</td>\n",
       "      <td>0.005698</td>\n",
       "    </tr>\n",
       "    <tr>\n",
       "      <th>1656979838</th>\n",
       "      <td>7916</td>\n",
       "      <td>0.006711</td>\n",
       "      <td>0.006589</td>\n",
       "      <td>0.005369</td>\n",
       "    </tr>\n",
       "    <tr>\n",
       "      <th>1656979862</th>\n",
       "      <td>7916</td>\n",
       "      <td>0.007862</td>\n",
       "      <td>0.008623</td>\n",
       "      <td>0.006937</td>\n",
       "    </tr>\n",
       "    <tr>\n",
       "      <th>1656979885</th>\n",
       "      <td>7916</td>\n",
       "      <td>0.008179</td>\n",
       "      <td>0.008251</td>\n",
       "      <td>0.006847</td>\n",
       "    </tr>\n",
       "    <tr>\n",
       "      <th>...</th>\n",
       "      <td>...</td>\n",
       "      <td>...</td>\n",
       "      <td>...</td>\n",
       "      <td>...</td>\n",
       "    </tr>\n",
       "    <tr>\n",
       "      <th>1660006952</th>\n",
       "      <td>8111</td>\n",
       "      <td>0.000009</td>\n",
       "      <td>0.000000</td>\n",
       "      <td>0.000000</td>\n",
       "    </tr>\n",
       "    <tr>\n",
       "      <th>1660006976</th>\n",
       "      <td>8111</td>\n",
       "      <td>0.000009</td>\n",
       "      <td>0.000000</td>\n",
       "      <td>0.000000</td>\n",
       "    </tr>\n",
       "    <tr>\n",
       "      <th>1660006999</th>\n",
       "      <td>8111</td>\n",
       "      <td>0.000019</td>\n",
       "      <td>0.000000</td>\n",
       "      <td>0.000000</td>\n",
       "    </tr>\n",
       "    <tr>\n",
       "      <th>1660007022</th>\n",
       "      <td>8111</td>\n",
       "      <td>0.000000</td>\n",
       "      <td>0.000000</td>\n",
       "      <td>0.000000</td>\n",
       "    </tr>\n",
       "    <tr>\n",
       "      <th>1660007046</th>\n",
       "      <td>8111</td>\n",
       "      <td>0.000000</td>\n",
       "      <td>0.000000</td>\n",
       "      <td>0.000000</td>\n",
       "    </tr>\n",
       "  </tbody>\n",
       "</table>\n",
       "<p>19423 rows × 4 columns</p>\n",
       "</div>"
      ],
      "text/plain": [
       "            fill   pltzero     bcm1f      hfoc\n",
       "Timestamp                                     \n",
       "1656979796  7916  0.007553  0.007406  0.006119\n",
       "1656979815  7916  0.007098  0.006290  0.005698\n",
       "1656979838  7916  0.006711  0.006589  0.005369\n",
       "1656979862  7916  0.007862  0.008623  0.006937\n",
       "1656979885  7916  0.008179  0.008251  0.006847\n",
       "...          ...       ...       ...       ...\n",
       "1660006952  8111  0.000009  0.000000  0.000000\n",
       "1660006976  8111  0.000009  0.000000  0.000000\n",
       "1660006999  8111  0.000019  0.000000  0.000000\n",
       "1660007022  8111  0.000000  0.000000  0.000000\n",
       "1660007046  8111  0.000000  0.000000  0.000000\n",
       "\n",
       "[19423 rows x 4 columns]"
      ]
     },
     "metadata": {},
     "output_type": "display_data"
    },
    {
     "data": {
      "text/html": [
       "<div>\n",
       "<style scoped>\n",
       "    .dataframe tbody tr th:only-of-type {\n",
       "        vertical-align: middle;\n",
       "    }\n",
       "\n",
       "    .dataframe tbody tr th {\n",
       "        vertical-align: top;\n",
       "    }\n",
       "\n",
       "    .dataframe thead th {\n",
       "        text-align: right;\n",
       "    }\n",
       "</style>\n",
       "<table border=\"1\" class=\"dataframe\">\n",
       "  <thead>\n",
       "    <tr style=\"text-align: right;\">\n",
       "      <th></th>\n",
       "      <th>fill</th>\n",
       "      <th>pltzero</th>\n",
       "      <th>bcm1f</th>\n",
       "      <th>hfoc</th>\n",
       "    </tr>\n",
       "    <tr>\n",
       "      <th>Timestamp</th>\n",
       "      <th></th>\n",
       "      <th></th>\n",
       "      <th></th>\n",
       "      <th></th>\n",
       "    </tr>\n",
       "  </thead>\n",
       "  <tbody>\n",
       "    <tr>\n",
       "      <th>1657031099</th>\n",
       "      <td>7920</td>\n",
       "      <td>0.000301</td>\n",
       "      <td>0.000309</td>\n",
       "      <td>0.000000</td>\n",
       "    </tr>\n",
       "    <tr>\n",
       "      <th>1657031102</th>\n",
       "      <td>7920</td>\n",
       "      <td>0.000292</td>\n",
       "      <td>0.000245</td>\n",
       "      <td>0.000000</td>\n",
       "    </tr>\n",
       "    <tr>\n",
       "      <th>1657031125</th>\n",
       "      <td>7920</td>\n",
       "      <td>0.000411</td>\n",
       "      <td>0.000336</td>\n",
       "      <td>0.000000</td>\n",
       "    </tr>\n",
       "    <tr>\n",
       "      <th>1657031148</th>\n",
       "      <td>7920</td>\n",
       "      <td>0.000565</td>\n",
       "      <td>0.000345</td>\n",
       "      <td>0.000000</td>\n",
       "    </tr>\n",
       "    <tr>\n",
       "      <th>1657031172</th>\n",
       "      <td>7920</td>\n",
       "      <td>0.000540</td>\n",
       "      <td>0.000508</td>\n",
       "      <td>0.000000</td>\n",
       "    </tr>\n",
       "    <tr>\n",
       "      <th>...</th>\n",
       "      <td>...</td>\n",
       "      <td>...</td>\n",
       "      <td>...</td>\n",
       "      <td>...</td>\n",
       "    </tr>\n",
       "    <tr>\n",
       "      <th>1659859502</th>\n",
       "      <td>8102</td>\n",
       "      <td>6330.852693</td>\n",
       "      <td>6325.928212</td>\n",
       "      <td>6483.756241</td>\n",
       "    </tr>\n",
       "    <tr>\n",
       "      <th>1659859525</th>\n",
       "      <td>8102</td>\n",
       "      <td>6334.536898</td>\n",
       "      <td>6330.130013</td>\n",
       "      <td>6488.344285</td>\n",
       "    </tr>\n",
       "    <tr>\n",
       "      <th>1659859548</th>\n",
       "      <td>8102</td>\n",
       "      <td>2909.360416</td>\n",
       "      <td>2956.071694</td>\n",
       "      <td>2826.560285</td>\n",
       "    </tr>\n",
       "    <tr>\n",
       "      <th>1659859572</th>\n",
       "      <td>8102</td>\n",
       "      <td>0.000019</td>\n",
       "      <td>0.000000</td>\n",
       "      <td>0.000000</td>\n",
       "    </tr>\n",
       "    <tr>\n",
       "      <th>1659859595</th>\n",
       "      <td>8102</td>\n",
       "      <td>0.000050</td>\n",
       "      <td>0.000000</td>\n",
       "      <td>0.000000</td>\n",
       "    </tr>\n",
       "  </tbody>\n",
       "</table>\n",
       "<p>20959 rows × 4 columns</p>\n",
       "</div>"
      ],
      "text/plain": [
       "            fill      pltzero        bcm1f         hfoc\n",
       "Timestamp                                              \n",
       "1657031099  7920     0.000301     0.000309     0.000000\n",
       "1657031102  7920     0.000292     0.000245     0.000000\n",
       "1657031125  7920     0.000411     0.000336     0.000000\n",
       "1657031148  7920     0.000565     0.000345     0.000000\n",
       "1657031172  7920     0.000540     0.000508     0.000000\n",
       "...          ...          ...          ...          ...\n",
       "1659859502  8102  6330.852693  6325.928212  6483.756241\n",
       "1659859525  8102  6334.536898  6330.130013  6488.344285\n",
       "1659859548  8102  2909.360416  2956.071694  2826.560285\n",
       "1659859572  8102     0.000019     0.000000     0.000000\n",
       "1659859595  8102     0.000050     0.000000     0.000000\n",
       "\n",
       "[20959 rows x 4 columns]"
      ]
     },
     "metadata": {},
     "output_type": "display_data"
    }
   ],
   "source": [
    "# Data loading and pre-processing:\n",
    "dataset_test = dataset_test.dropna()\n",
    "dataset_train = dataset_train.dropna()\n",
    "dataset_train[dataset_train.isna().any(axis=1)] \n",
    "dataset_test[dataset_test.isna().any(axis=1)] \n",
    "#dataset_train = dataset_train.drop(dataset_train.columns[0], axis=1)\n",
    "#dataset_test = dataset_test.drop(dataset_test.columns[0], axis=1)\n",
    "display(dataset_train)\n",
    "display(dataset_test)"
   ]
  },
  {
   "cell_type": "code",
   "execution_count": 10,
   "metadata": {},
   "outputs": [],
   "source": [
    "from sklearn import preprocessing\n",
    "\n",
    "# Normalize data\n",
    "scaler = preprocessing.MinMaxScaler()\n",
    "\n",
    "X_train = pd.DataFrame(scaler.fit_transform(dataset_train), \n",
    "                              columns=dataset_train.columns, \n",
    "                              index=dataset_train.index)\n",
    "# Random shuffle training data\n",
    "#X_train.sample(frac=1)\n",
    "\n",
    "X_test = pd.DataFrame(scaler.transform(dataset_test), \n",
    "                             columns=dataset_test.columns, \n",
    "                             index=dataset_test.index)"
   ]
  },
  {
   "cell_type": "code",
   "execution_count": 11,
   "metadata": {},
   "outputs": [
    {
     "data": {
      "text/html": [
       "<div>\n",
       "<style scoped>\n",
       "    .dataframe tbody tr th:only-of-type {\n",
       "        vertical-align: middle;\n",
       "    }\n",
       "\n",
       "    .dataframe tbody tr th {\n",
       "        vertical-align: top;\n",
       "    }\n",
       "\n",
       "    .dataframe thead th {\n",
       "        text-align: right;\n",
       "    }\n",
       "</style>\n",
       "<table border=\"1\" class=\"dataframe\">\n",
       "  <thead>\n",
       "    <tr style=\"text-align: right;\">\n",
       "      <th></th>\n",
       "      <th>fill</th>\n",
       "      <th>pltzero</th>\n",
       "      <th>bcm1f</th>\n",
       "      <th>hfoc</th>\n",
       "    </tr>\n",
       "    <tr>\n",
       "      <th>Timestamp</th>\n",
       "      <th></th>\n",
       "      <th></th>\n",
       "      <th></th>\n",
       "      <th></th>\n",
       "    </tr>\n",
       "  </thead>\n",
       "  <tbody>\n",
       "    <tr>\n",
       "      <th>1656979796</th>\n",
       "      <td>0.0</td>\n",
       "      <td>5.238167e-07</td>\n",
       "      <td>5.146756e-07</td>\n",
       "      <td>4.102044e-07</td>\n",
       "    </tr>\n",
       "    <tr>\n",
       "      <th>1656979815</th>\n",
       "      <td>0.0</td>\n",
       "      <td>4.922206e-07</td>\n",
       "      <td>4.370904e-07</td>\n",
       "      <td>3.819739e-07</td>\n",
       "    </tr>\n",
       "    <tr>\n",
       "      <th>1656979838</th>\n",
       "      <td>0.0</td>\n",
       "      <td>4.654015e-07</td>\n",
       "      <td>4.579056e-07</td>\n",
       "      <td>3.599269e-07</td>\n",
       "    </tr>\n",
       "    <tr>\n",
       "      <th>1656979862</th>\n",
       "      <td>0.0</td>\n",
       "      <td>5.452263e-07</td>\n",
       "      <td>5.991969e-07</td>\n",
       "      <td>4.650461e-07</td>\n",
       "    </tr>\n",
       "    <tr>\n",
       "      <th>1656979885</th>\n",
       "      <td>0.0</td>\n",
       "      <td>5.671984e-07</td>\n",
       "      <td>5.733339e-07</td>\n",
       "      <td>4.589931e-07</td>\n",
       "    </tr>\n",
       "    <tr>\n",
       "      <th>...</th>\n",
       "      <td>...</td>\n",
       "      <td>...</td>\n",
       "      <td>...</td>\n",
       "      <td>...</td>\n",
       "    </tr>\n",
       "    <tr>\n",
       "      <th>1660006952</th>\n",
       "      <td>1.0</td>\n",
       "      <td>6.524951e-10</td>\n",
       "      <td>0.000000e+00</td>\n",
       "      <td>0.000000e+00</td>\n",
       "    </tr>\n",
       "    <tr>\n",
       "      <th>1660006976</th>\n",
       "      <td>1.0</td>\n",
       "      <td>6.524951e-10</td>\n",
       "      <td>0.000000e+00</td>\n",
       "      <td>0.000000e+00</td>\n",
       "    </tr>\n",
       "    <tr>\n",
       "      <th>1660006999</th>\n",
       "      <td>1.0</td>\n",
       "      <td>1.304921e-09</td>\n",
       "      <td>0.000000e+00</td>\n",
       "      <td>0.000000e+00</td>\n",
       "    </tr>\n",
       "    <tr>\n",
       "      <th>1660007022</th>\n",
       "      <td>1.0</td>\n",
       "      <td>0.000000e+00</td>\n",
       "      <td>0.000000e+00</td>\n",
       "      <td>0.000000e+00</td>\n",
       "    </tr>\n",
       "    <tr>\n",
       "      <th>1660007046</th>\n",
       "      <td>1.0</td>\n",
       "      <td>0.000000e+00</td>\n",
       "      <td>0.000000e+00</td>\n",
       "      <td>0.000000e+00</td>\n",
       "    </tr>\n",
       "  </tbody>\n",
       "</table>\n",
       "<p>19423 rows × 4 columns</p>\n",
       "</div>"
      ],
      "text/plain": [
       "            fill       pltzero         bcm1f          hfoc\n",
       "Timestamp                                                 \n",
       "1656979796   0.0  5.238167e-07  5.146756e-07  4.102044e-07\n",
       "1656979815   0.0  4.922206e-07  4.370904e-07  3.819739e-07\n",
       "1656979838   0.0  4.654015e-07  4.579056e-07  3.599269e-07\n",
       "1656979862   0.0  5.452263e-07  5.991969e-07  4.650461e-07\n",
       "1656979885   0.0  5.671984e-07  5.733339e-07  4.589931e-07\n",
       "...          ...           ...           ...           ...\n",
       "1660006952   1.0  6.524951e-10  0.000000e+00  0.000000e+00\n",
       "1660006976   1.0  6.524951e-10  0.000000e+00  0.000000e+00\n",
       "1660006999   1.0  1.304921e-09  0.000000e+00  0.000000e+00\n",
       "1660007022   1.0  0.000000e+00  0.000000e+00  0.000000e+00\n",
       "1660007046   1.0  0.000000e+00  0.000000e+00  0.000000e+00\n",
       "\n",
       "[19423 rows x 4 columns]"
      ]
     },
     "execution_count": 11,
     "metadata": {},
     "output_type": "execute_result"
    }
   ],
   "source": [
    "X_train"
   ]
  },
  {
   "cell_type": "code",
   "execution_count": 12,
   "metadata": {},
   "outputs": [
    {
     "data": {
      "text/plain": [
       "<AxesSubplot:xlabel='Timestamp'>"
      ]
     },
     "execution_count": 12,
     "metadata": {},
     "output_type": "execute_result"
    },
    {
     "data": {
      "image/png": "[encoded data removed]",
      "text/plain": [
       "<Figure size 432x288 with 1 Axes>"
      ]
     },
     "metadata": {
      "needs_background": "light"
     },
     "output_type": "display_data"
    }
   ],
   "source": [
    "X_train.drop(columns=['fill']).plot()"
   ]
  },
  {
   "cell_type": "code",
   "execution_count": 13,
   "metadata": {},
   "outputs": [
    {
     "data": {
      "text/html": [
       "<div>\n",
       "<style scoped>\n",
       "    .dataframe tbody tr th:only-of-type {\n",
       "        vertical-align: middle;\n",
       "    }\n",
       "\n",
       "    .dataframe tbody tr th {\n",
       "        vertical-align: top;\n",
       "    }\n",
       "\n",
       "    .dataframe thead th {\n",
       "        text-align: right;\n",
       "    }\n",
       "</style>\n",
       "<table border=\"1\" class=\"dataframe\">\n",
       "  <thead>\n",
       "    <tr style=\"text-align: right;\">\n",
       "      <th></th>\n",
       "      <th>pltzero</th>\n",
       "      <th>bcm1f</th>\n",
       "      <th>hfoc</th>\n",
       "    </tr>\n",
       "    <tr>\n",
       "      <th>Timestamp</th>\n",
       "      <th></th>\n",
       "      <th></th>\n",
       "      <th></th>\n",
       "    </tr>\n",
       "  </thead>\n",
       "  <tbody>\n",
       "    <tr>\n",
       "      <th>1656979796</th>\n",
       "      <td>5.238167e-07</td>\n",
       "      <td>5.146756e-07</td>\n",
       "      <td>4.102044e-07</td>\n",
       "    </tr>\n",
       "    <tr>\n",
       "      <th>1656979815</th>\n",
       "      <td>4.922206e-07</td>\n",
       "      <td>4.370904e-07</td>\n",
       "      <td>3.819739e-07</td>\n",
       "    </tr>\n",
       "    <tr>\n",
       "      <th>1656979838</th>\n",
       "      <td>4.654015e-07</td>\n",
       "      <td>4.579056e-07</td>\n",
       "      <td>3.599269e-07</td>\n",
       "    </tr>\n",
       "    <tr>\n",
       "      <th>1656979862</th>\n",
       "      <td>5.452263e-07</td>\n",
       "      <td>5.991969e-07</td>\n",
       "      <td>4.650461e-07</td>\n",
       "    </tr>\n",
       "    <tr>\n",
       "      <th>1656979885</th>\n",
       "      <td>5.671984e-07</td>\n",
       "      <td>5.733339e-07</td>\n",
       "      <td>4.589931e-07</td>\n",
       "    </tr>\n",
       "    <tr>\n",
       "      <th>...</th>\n",
       "      <td>...</td>\n",
       "      <td>...</td>\n",
       "      <td>...</td>\n",
       "    </tr>\n",
       "    <tr>\n",
       "      <th>1660006952</th>\n",
       "      <td>6.524951e-10</td>\n",
       "      <td>0.000000e+00</td>\n",
       "      <td>0.000000e+00</td>\n",
       "    </tr>\n",
       "    <tr>\n",
       "      <th>1660006976</th>\n",
       "      <td>6.524951e-10</td>\n",
       "      <td>0.000000e+00</td>\n",
       "      <td>0.000000e+00</td>\n",
       "    </tr>\n",
       "    <tr>\n",
       "      <th>1660006999</th>\n",
       "      <td>1.304921e-09</td>\n",
       "      <td>0.000000e+00</td>\n",
       "      <td>0.000000e+00</td>\n",
       "    </tr>\n",
       "    <tr>\n",
       "      <th>1660007022</th>\n",
       "      <td>0.000000e+00</td>\n",
       "      <td>0.000000e+00</td>\n",
       "      <td>0.000000e+00</td>\n",
       "    </tr>\n",
       "    <tr>\n",
       "      <th>1660007046</th>\n",
       "      <td>0.000000e+00</td>\n",
       "      <td>0.000000e+00</td>\n",
       "      <td>0.000000e+00</td>\n",
       "    </tr>\n",
       "  </tbody>\n",
       "</table>\n",
       "<p>19423 rows × 3 columns</p>\n",
       "</div>"
      ],
      "text/plain": [
       "                 pltzero         bcm1f          hfoc\n",
       "Timestamp                                           \n",
       "1656979796  5.238167e-07  5.146756e-07  4.102044e-07\n",
       "1656979815  4.922206e-07  4.370904e-07  3.819739e-07\n",
       "1656979838  4.654015e-07  4.579056e-07  3.599269e-07\n",
       "1656979862  5.452263e-07  5.991969e-07  4.650461e-07\n",
       "1656979885  5.671984e-07  5.733339e-07  4.589931e-07\n",
       "...                  ...           ...           ...\n",
       "1660006952  6.524951e-10  0.000000e+00  0.000000e+00\n",
       "1660006976  6.524951e-10  0.000000e+00  0.000000e+00\n",
       "1660006999  1.304921e-09  0.000000e+00  0.000000e+00\n",
       "1660007022  0.000000e+00  0.000000e+00  0.000000e+00\n",
       "1660007046  0.000000e+00  0.000000e+00  0.000000e+00\n",
       "\n",
       "[19423 rows x 3 columns]"
      ]
     },
     "metadata": {},
     "output_type": "display_data"
    },
    {
     "data": {
      "text/html": [
       "<div>\n",
       "<style scoped>\n",
       "    .dataframe tbody tr th:only-of-type {\n",
       "        vertical-align: middle;\n",
       "    }\n",
       "\n",
       "    .dataframe tbody tr th {\n",
       "        vertical-align: top;\n",
       "    }\n",
       "\n",
       "    .dataframe thead th {\n",
       "        text-align: right;\n",
       "    }\n",
       "</style>\n",
       "<table border=\"1\" class=\"dataframe\">\n",
       "  <thead>\n",
       "    <tr style=\"text-align: right;\">\n",
       "      <th></th>\n",
       "      <th>pltzero</th>\n",
       "      <th>bcm1f</th>\n",
       "      <th>hfoc</th>\n",
       "    </tr>\n",
       "    <tr>\n",
       "      <th>Timestamp</th>\n",
       "      <th></th>\n",
       "      <th></th>\n",
       "      <th></th>\n",
       "    </tr>\n",
       "  </thead>\n",
       "  <tbody>\n",
       "    <tr>\n",
       "      <th>1657031099</th>\n",
       "      <td>2.087873e-08</td>\n",
       "      <td>2.144230e-08</td>\n",
       "      <td>0.000000</td>\n",
       "    </tr>\n",
       "    <tr>\n",
       "      <th>1657031102</th>\n",
       "      <td>2.022631e-08</td>\n",
       "      <td>1.702806e-08</td>\n",
       "      <td>0.000000</td>\n",
       "    </tr>\n",
       "    <tr>\n",
       "      <th>1657031125</th>\n",
       "      <td>2.849072e-08</td>\n",
       "      <td>2.333515e-08</td>\n",
       "      <td>0.000000</td>\n",
       "    </tr>\n",
       "    <tr>\n",
       "      <th>1657031148</th>\n",
       "      <td>3.914749e-08</td>\n",
       "      <td>2.396557e-08</td>\n",
       "      <td>0.000000</td>\n",
       "    </tr>\n",
       "    <tr>\n",
       "      <th>1657031172</th>\n",
       "      <td>3.743487e-08</td>\n",
       "      <td>3.531856e-08</td>\n",
       "      <td>0.000000</td>\n",
       "    </tr>\n",
       "    <tr>\n",
       "      <th>...</th>\n",
       "      <td>...</td>\n",
       "      <td>...</td>\n",
       "      <td>...</td>\n",
       "    </tr>\n",
       "    <tr>\n",
       "      <th>1659859502</th>\n",
       "      <td>4.390318e-01</td>\n",
       "      <td>4.395912e-01</td>\n",
       "      <td>0.434640</td>\n",
       "    </tr>\n",
       "    <tr>\n",
       "      <th>1659859525</th>\n",
       "      <td>4.392873e-01</td>\n",
       "      <td>4.398832e-01</td>\n",
       "      <td>0.434948</td>\n",
       "    </tr>\n",
       "    <tr>\n",
       "      <th>1659859548</th>\n",
       "      <td>2.017583e-01</td>\n",
       "      <td>2.054186e-01</td>\n",
       "      <td>0.189479</td>\n",
       "    </tr>\n",
       "    <tr>\n",
       "      <th>1659859572</th>\n",
       "      <td>1.304921e-09</td>\n",
       "      <td>0.000000e+00</td>\n",
       "      <td>0.000000</td>\n",
       "    </tr>\n",
       "    <tr>\n",
       "      <th>1659859595</th>\n",
       "      <td>3.479812e-09</td>\n",
       "      <td>0.000000e+00</td>\n",
       "      <td>0.000000</td>\n",
       "    </tr>\n",
       "  </tbody>\n",
       "</table>\n",
       "<p>20959 rows × 3 columns</p>\n",
       "</div>"
      ],
      "text/plain": [
       "                 pltzero         bcm1f      hfoc\n",
       "Timestamp                                       \n",
       "1657031099  2.087873e-08  2.144230e-08  0.000000\n",
       "1657031102  2.022631e-08  1.702806e-08  0.000000\n",
       "1657031125  2.849072e-08  2.333515e-08  0.000000\n",
       "1657031148  3.914749e-08  2.396557e-08  0.000000\n",
       "1657031172  3.743487e-08  3.531856e-08  0.000000\n",
       "...                  ...           ...       ...\n",
       "1659859502  4.390318e-01  4.395912e-01  0.434640\n",
       "1659859525  4.392873e-01  4.398832e-01  0.434948\n",
       "1659859548  2.017583e-01  2.054186e-01  0.189479\n",
       "1659859572  1.304921e-09  0.000000e+00  0.000000\n",
       "1659859595  3.479812e-09  0.000000e+00  0.000000\n",
       "\n",
       "[20959 rows x 3 columns]"
      ]
     },
     "metadata": {},
     "output_type": "display_data"
    }
   ],
   "source": [
    "#Prepocessing, drop channel column\n",
    "trainX=X_train.drop(columns = [\"fill\"]) \n",
    "#trainX=trainX.drop(trainX.columns[[0]], axis=1)\n",
    "display(trainX)\n",
    "testX = X_test.drop(columns = [\"fill\"]) \n",
    "#testX=testX.drop(testX.columns[[0]], axis=1)\n",
    "display(testX)"
   ]
  },
  {
   "cell_type": "code",
   "execution_count": 14,
   "metadata": {},
   "outputs": [],
   "source": [
    "# Principal Component Analysis\n",
    "from sklearn.decomposition import PCA\n",
    "pca = PCA(n_components=2, svd_solver= 'full')\n",
    "X_train_PCA = pca.fit_transform(X_train)\n",
    "X_train_PCA = pd.DataFrame(X_train_PCA)\n",
    "X_train_PCA.index = X_train.index\n",
    "\n",
    "X_test_PCA = pca.transform(X_test)\n",
    "X_test_PCA = pd.DataFrame(X_test_PCA)\n",
    "X_test_PCA.index = X_test.index"
   ]
  },
  {
   "cell_type": "code",
   "execution_count": 15,
   "metadata": {},
   "outputs": [],
   "source": [
    "def cov_matrix2(data):\n",
    "    #calcualte covariance amongst scaled values\n",
    "    for col in data.columns:\n",
    "        data[col] = data[col]-data[col].mean()\n",
    "        \n",
    "    cov_matrix = np.dot(data.T,data)/(len(data) - 1)\n",
    "    if is_pos_def(cov_matrix):\n",
    "        inv_covariance_matrix = np.linalg.inv(cov_matrix)\n",
    "        if is_pos_def(inv_covariance_matrix):\n",
    "                return cov_matrix, inv_covariance_matrix\n",
    "        else:\n",
    "            print(\"Error: Inverse of Covariance Matrix is not positive definite!\")\n",
    "    else:\n",
    "        print(\"Error: Covariance Matrix is not positive definite!\")\n",
    "\n",
    "def MahalanobisDist(inv_cov_matrix, mean_distr, data, verbose=False):\n",
    "    inv_covariance_matrix = inv_cov_matrix\n",
    "    vars_mean = mean_distr\n",
    "    diff = data - vars_mean\n",
    "    md = []\n",
    "    for i in range(len(diff)):\n",
    "        md.append(np.sqrt(diff[i].dot(inv_covariance_matrix).dot(diff[i])))\n",
    "    return md\n",
    "\n",
    "def EuclideanDist(data, mean_distr):\n",
    "    dist = []\n",
    "    for i in range(len(data)):\n",
    "        dist.append(np.linalg.norm(data[i]-mean_distr))\n",
    "    return dist\n",
    "\n",
    "def CosineDist(data, mean_distr):\n",
    "    dist = []\n",
    "    mean = [mean_distr] * np.shape(data)[0]\n",
    "    dist = data*mean/(np.linalg.norm(data)*np.linalg.norm(mean))\n",
    "    #for i in range(len(data)):\n",
    "        #dist.append(np.dot(data[i],mean[i]))\n",
    "    #dist = dist /(np.linalg.norm(data)*np.linalg.norm(mean))\n",
    "    return dist \n",
    "\n",
    "def ManhattanDist(data, mean_distr):\n",
    "    dist = []\n",
    "    for i in range(len(data)):\n",
    "        dist.append(sum(abs(data[i]-mean_distr)))\n",
    "    return dist\n",
    "\n",
    "def MD_detectOutliers(dist, extreme=False, verbose=False, euclidean=False, cosine=False, manhattan=False):\n",
    "    if extreme:\n",
    "        k=3\n",
    "    elif euclidean or cosine or manhattan:\n",
    "        k=2\n",
    "    else:\n",
    "        k=2\n",
    "    threshold = np.mean(dist) * k\n",
    "    outliers = []\n",
    "    for i in range(len(dist)):\n",
    "        if dist[i] >= threshold:\n",
    "            outliers.append(i)  # index of the outlier\n",
    "    return np.array(outliers)\n",
    "\n",
    "def MD_threshold(dist, extreme=False, euclidean=False, cosine=False, verbose=False, manhattan=False):\n",
    "    if extreme:\n",
    "        k=3\n",
    "    elif euclidean or cosine or manhattan:\n",
    "        k=2\n",
    "    else:\n",
    "        k=2\n",
    "    threshold = np.mean(dist) * k\n",
    "    return threshold\n",
    "\n",
    "def is_pos_def(A):\n",
    "    if np.allclose(A, A.T):\n",
    "        try:\n",
    "            np.linalg.cholesky(A)\n",
    "            return True\n",
    "        except np.linalg.LinAlgError:\n",
    "            return False\n",
    "    else:\n",
    "        return False"
   ]
  },
  {
   "cell_type": "code",
   "execution_count": 16,
   "metadata": {},
   "outputs": [
    {
     "data": {
      "text/plain": [
       "array([[3.00727258e-01, 9.14610668e-19],\n",
       "       [9.14610668e-19, 2.56114878e-02]])"
      ]
     },
     "metadata": {},
     "output_type": "display_data"
    },
    {
     "data": {
      "text/plain": [
       "array([[ 3.32527223e+00, -1.18748644e-16],\n",
       "       [-1.18748644e-16,  3.90449788e+01]])"
      ]
     },
     "metadata": {},
     "output_type": "display_data"
    }
   ],
   "source": [
    "data_train = np.array(X_train_PCA.values)\n",
    "data_test = np.array(X_test_PCA.values)\n",
    "\n",
    "cov_matrix, inv_cov_matrix  = cov_matrix2(X_train_PCA)\n",
    "#cov_matrix, inv_cov_matrix  = cov_matrix(data_train)\n",
    "mean_distr = data_train.mean(axis=0)\n",
    "\n",
    "dist_test = MahalanobisDist(inv_cov_matrix, mean_distr, data_test, verbose=False)\n",
    "dist_train = MahalanobisDist(inv_cov_matrix, mean_distr, data_train, verbose=False)\n",
    "threshold = MD_threshold(dist_train, extreme = True)\n",
    "#cov_calc = cov_matrix2(X_train_PCA) #calling the above function\n",
    "display(cov_matrix)\n",
    "display(inv_cov_matrix)"
   ]
  },
  {
   "cell_type": "code",
   "execution_count": 17,
   "metadata": {},
   "outputs": [
    {
     "data": {
      "text/plain": [
       "3.6977151525824388"
      ]
     },
     "execution_count": 17,
     "metadata": {},
     "output_type": "execute_result"
    }
   ],
   "source": [
    "threshold"
   ]
  },
  {
   "cell_type": "code",
   "execution_count": 18,
   "metadata": {},
   "outputs": [
    {
     "data": {
      "text/plain": [
       "<Figure size 432x288 with 0 Axes>"
      ]
     },
     "metadata": {},
     "output_type": "display_data"
    },
    {
     "data": {
      "image/png": "[encoded data removed]",
      "text/plain": [
       "<Figure size 360x360 with 1 Axes>"
      ]
     },
     "metadata": {
      "needs_background": "light"
     },
     "output_type": "display_data"
    }
   ],
   "source": [
    "import seaborn as sns\n",
    "sns.set(color_codes=True)\n",
    "import matplotlib.pyplot as plt\n",
    "%matplotlib inline\n",
    "plt.figure()\n",
    "sns.displot(np.square(dist_train),\n",
    "             bins = 100, \n",
    "             kde= False);\n",
    "#plt.axvline(x=threshold, color = 'red')\n",
    "#plt.xlim([0.0,150])"
   ]
  },
  {
   "cell_type": "code",
   "execution_count": 19,
   "metadata": {},
   "outputs": [
    {
     "data": {
      "text/plain": [
       "Text(0.5, 6.799999999999979, 'Mahalanobis dist')"
      ]
     },
     "execution_count": 19,
     "metadata": {},
     "output_type": "execute_result"
    },
    {
     "data": {
      "text/plain": [
       "<Figure size 432x288 with 0 Axes>"
      ]
     },
     "metadata": {},
     "output_type": "display_data"
    },
    {
     "data": {
      "image/png": "[encoded data removed]",
      "text/plain": [
       "<Figure size 360x360 with 1 Axes>"
      ]
     },
     "metadata": {
      "needs_background": "light"
     },
     "output_type": "display_data"
    }
   ],
   "source": [
    "plt.figure()\n",
    "sns.displot(dist_train,\n",
    "             bins = 100, \n",
    "             kde= True, \n",
    "            color = 'green');\n",
    "#plt.xlim([0.0,15])\n",
    "#plt.yscale('log')\n",
    "plt.xlabel('Mahalanobis dist')\n",
    "#plt.axvline(x=threshold, color = 'red')"
   ]
  },
  {
   "cell_type": "code",
   "execution_count": 20,
   "metadata": {},
   "outputs": [
    {
     "data": {
      "text/plain": [
       "Text(0.5, 6.799999999999979, 'Mahalanobis dist')"
      ]
     },
     "execution_count": 20,
     "metadata": {},
     "output_type": "execute_result"
    },
    {
     "data": {
      "text/plain": [
       "<Figure size 432x288 with 0 Axes>"
      ]
     },
     "metadata": {},
     "output_type": "display_data"
    },
    {
     "data": {
      "image/png": "[encoded data removed]",
      "text/plain": [
       "<Figure size 360x360 with 1 Axes>"
      ]
     },
     "metadata": {
      "needs_background": "light"
     },
     "output_type": "display_data"
    }
   ],
   "source": [
    "plt.figure()\n",
    "sns.displot(dist_test,\n",
    "             bins = 100, \n",
    "             kde= True, \n",
    "            color = 'green');\n",
    "#plt.axvline(x=threshold, color = 'red')\n",
    "#plt.xlim([0.0,15])\n",
    "#plt.yscale('log')\n",
    "plt.xlabel('Mahalanobis dist')"
   ]
  },
  {
   "cell_type": "code",
   "execution_count": 21,
   "metadata": {},
   "outputs": [
    {
     "data": {
      "text/html": [
       "<div>\n",
       "<style scoped>\n",
       "    .dataframe tbody tr th:only-of-type {\n",
       "        vertical-align: middle;\n",
       "    }\n",
       "\n",
       "    .dataframe tbody tr th {\n",
       "        vertical-align: top;\n",
       "    }\n",
       "\n",
       "    .dataframe thead th {\n",
       "        text-align: right;\n",
       "    }\n",
       "</style>\n",
       "<table border=\"1\" class=\"dataframe\">\n",
       "  <thead>\n",
       "    <tr style=\"text-align: right;\">\n",
       "      <th></th>\n",
       "      <th>Mob dist</th>\n",
       "      <th>Thresh</th>\n",
       "      <th>Anomaly</th>\n",
       "    </tr>\n",
       "    <tr>\n",
       "      <th>Timestamp</th>\n",
       "      <th></th>\n",
       "      <th></th>\n",
       "      <th></th>\n",
       "    </tr>\n",
       "  </thead>\n",
       "  <tbody>\n",
       "    <tr>\n",
       "      <th>1657031099</th>\n",
       "      <td>1.970662</td>\n",
       "      <td>3.697715</td>\n",
       "      <td>False</td>\n",
       "    </tr>\n",
       "    <tr>\n",
       "      <th>1657031102</th>\n",
       "      <td>1.970662</td>\n",
       "      <td>3.697715</td>\n",
       "      <td>False</td>\n",
       "    </tr>\n",
       "    <tr>\n",
       "      <th>1657031125</th>\n",
       "      <td>1.970662</td>\n",
       "      <td>3.697715</td>\n",
       "      <td>False</td>\n",
       "    </tr>\n",
       "    <tr>\n",
       "      <th>1657031148</th>\n",
       "      <td>1.970662</td>\n",
       "      <td>3.697715</td>\n",
       "      <td>False</td>\n",
       "    </tr>\n",
       "    <tr>\n",
       "      <th>1657031172</th>\n",
       "      <td>1.970662</td>\n",
       "      <td>3.697715</td>\n",
       "      <td>False</td>\n",
       "    </tr>\n",
       "  </tbody>\n",
       "</table>\n",
       "</div>"
      ],
      "text/plain": [
       "            Mob dist    Thresh  Anomaly\n",
       "Timestamp                              \n",
       "1657031099  1.970662  3.697715    False\n",
       "1657031102  1.970662  3.697715    False\n",
       "1657031125  1.970662  3.697715    False\n",
       "1657031148  1.970662  3.697715    False\n",
       "1657031172  1.970662  3.697715    False"
      ]
     },
     "execution_count": 21,
     "metadata": {},
     "output_type": "execute_result"
    }
   ],
   "source": [
    "anomaly_train = pd.DataFrame()\n",
    "anomaly_train['Mob dist']= dist_train\n",
    "anomaly_train['Thresh'] = threshold\n",
    "# If Mob dist above threshold: Flag as anomaly\n",
    "anomaly_train['Anomaly'] = anomaly_train['Mob dist'] > anomaly_train['Thresh']\n",
    "anomaly_train.index = X_train_PCA.index\n",
    "anomaly = pd.DataFrame()\n",
    "anomaly['Mob dist']= dist_test\n",
    "anomaly['Thresh'] = threshold\n",
    "# If Mob dist above threshold: Flag as anomaly\n",
    "anomaly['Anomaly'] = anomaly['Mob dist'] > anomaly['Thresh']\n",
    "anomaly.index = X_test_PCA.index\n",
    "anomaly.head()"
   ]
  },
  {
   "cell_type": "code",
   "execution_count": 22,
   "metadata": {},
   "outputs": [],
   "source": [
    "anomaly_alldata = pd.concat([anomaly_train, anomaly])\n",
    "anomaly_alldata.to_csv('Anomaly_distance_Mahalanobis.csv')\n",
    "#anomaly_alldata.plot(logy=True, figsize = (10,6), ylim = [1e-1,1e3], color = ['green','red'])"
   ]
  },
  {
   "cell_type": "code",
   "execution_count": 23,
   "metadata": {},
   "outputs": [
    {
     "data": {
      "text/plain": [
       "<AxesSubplot:xlabel='Timestamp'>"
      ]
     },
     "execution_count": 23,
     "metadata": {},
     "output_type": "execute_result"
    },
    {
     "data": {
      "image/png": "[encoded data removed]",
      "text/plain": [
       "<Figure size 720x432 with 1 Axes>"
      ]
     },
     "metadata": {
      "needs_background": "light"
     },
     "output_type": "display_data"
    }
   ],
   "source": [
    "anomaly_train.plot(logy=True, figsize = (10,6), ylim = [1e-1,1e3], color = ['green','red'])"
   ]
  },
  {
   "cell_type": "code",
   "execution_count": 24,
   "metadata": {},
   "outputs": [
    {
     "data": {
      "text/plain": [
       "<AxesSubplot:xlabel='Timestamp'>"
      ]
     },
     "execution_count": 24,
     "metadata": {},
     "output_type": "execute_result"
    },
    {
     "data": {
      "image/png": "[encoded data removed]",
      "text/plain": [
       "<Figure size 720x432 with 1 Axes>"
      ]
     },
     "metadata": {
      "needs_background": "light"
     },
     "output_type": "display_data"
    }
   ],
   "source": [
    "anomaly.plot(logy=True, figsize = (10,6), ylim = [1e-1,1e3], color = ['green','red'])"
   ]
  }
 ],
 "metadata": {
  "kernelspec": {
   "display_name": "Python 3.9.6 ('my_env': venv)",
   "language": "python",
   "name": "python3"
  },
  "language_info": {
   "codemirror_mode": {
    "name": "ipython",
    "version": 3
   },
   "file_extension": ".py",
   "mimetype": "text/x-python",
   "name": "python",
   "nbconvert_exporter": "python",
   "pygments_lexer": "ipython3",
   "version": "3.9.6"
  },
  "orig_nbformat": 4,
  "vscode": {
   "interpreter": {
    "hash": "d3f031363a167fa90731a8536d884cc556796eb9131843269a95abee6e5ae8e8"
   }
  }
 },
 "nbformat": 4,
 "nbformat_minor": 2
}
